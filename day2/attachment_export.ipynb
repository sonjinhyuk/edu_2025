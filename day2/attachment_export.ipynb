{
 "cells": [
  {
   "cell_type": "code",
   "execution_count": null,
   "id": "ecd756e9",
   "metadata": {},
   "outputs": [],
   "source": [
    "%pip install eml-parser"
   ]
  },
  {
   "cell_type": "code",
   "execution_count": null,
   "id": "238d2beb",
   "metadata": {},
   "outputs": [],
   "source": [
    "import email\n",
    "import os\n",
    "import base64\n",
    "def get_email(eml_file):\n",
    "    with open(eml_file, \"rb\") as f:\n",
    "        msg = email.message_from_binary_file(f)\n",
    "    return msg\n",
    "\n",
    "def get_attachments(msg, output_dir=\"../eml_file/\"):\n",
    "    for part in msg.walk():\n",
    "        content_disposition = part.get(\"Content-Disposition\", \"\")\n",
    "        \n",
    "        if \"attachment\" in content_disposition:\n",
    "            filename = part.get_filename()\n",
    "            if not filename:\n",
    "                filename = \"unknown.bin\"\n",
    "\n",
    "            filepath = os.path.join(output_dir, filename)\n",
    "\n",
    "            # 첨부파일 저장\n",
    "            payload = part.get_payload(decode=True)  # base64 자동 디코딩\n",
    "            with open(filepath, \"wb\") as f:\n",
    "                f.write(payload)"
   ]
  },
  {
   "cell_type": "code",
   "execution_count": null,
   "id": "dd9125d3",
   "metadata": {},
   "outputs": [],
   "source": [
    "eml_file = \"../eml_file/2023-03-07-Emotet-malspam-174850-UTC.eml\"\n",
    "msg = get_email(eml_file)\n",
    "get_attachments(msg)"
   ]
  }
 ],
 "metadata": {
  "kernelspec": {
   "display_name": "iesc2025",
   "language": "python",
   "name": "python3"
  },
  "language_info": {
   "codemirror_mode": {
    "name": "ipython",
    "version": 3
   },
   "file_extension": ".py",
   "mimetype": "text/x-python",
   "name": "python",
   "nbconvert_exporter": "python",
   "pygments_lexer": "ipython3",
   "version": "3.12.11"
  }
 },
 "nbformat": 4,
 "nbformat_minor": 5
}
